{
 "cells": [
  {
   "cell_type": "code",
   "execution_count": 1,
   "id": "a74542f9",
   "metadata": {},
   "outputs": [],
   "source": [
    "import numpy as np\n",
    "import pandas as pd"
   ]
  },
  {
   "cell_type": "code",
   "execution_count": 2,
   "id": "08808c7a",
   "metadata": {},
   "outputs": [],
   "source": [
    "train_path = 'HW1.train.csv'  # path to training data\n",
    "test_path = 'HW1.test.csv'   # path to testing data\n",
    "\n",
    "import pandas as pd\n",
    "train = pd.read_csv(train_path)\n",
    "test = pd.read_csv(test_path)"
   ]
  },
  {
   "cell_type": "code",
   "execution_count": 3,
   "id": "cd482da6",
   "metadata": {},
   "outputs": [
    {
     "data": {
      "text/plain": [
       "((2000, 95), (500, 94))"
      ]
     },
     "execution_count": 3,
     "metadata": {},
     "output_type": "execute_result"
    }
   ],
   "source": [
    "train.shape, test.shape"
   ]
  },
  {
   "cell_type": "code",
   "execution_count": 4,
   "id": "a3b7e997",
   "metadata": {},
   "outputs": [],
   "source": [
    "df = pd.concat([train,test])"
   ]
  },
  {
   "cell_type": "code",
   "execution_count": 5,
   "id": "6b222cf8",
   "metadata": {
    "scrolled": true
   },
   "outputs": [
    {
     "name": "stdout",
     "output_type": "stream",
     "text": [
      "<class 'pandas.core.frame.DataFrame'>\n",
      "Int64Index: 2500 entries, 0 to 499\n",
      "Data columns (total 95 columns):\n",
      " #   Column                  Non-Null Count  Dtype  \n",
      "---  ------                  --------------  -----  \n",
      " 0   id                      2500 non-null   int64  \n",
      " 1   AL                      2500 non-null   int64  \n",
      " 2   AK                      2500 non-null   int64  \n",
      " 3   AZ                      2500 non-null   int64  \n",
      " 4   AR                      2500 non-null   int64  \n",
      " 5   CA                      2500 non-null   int64  \n",
      " 6   CO                      2500 non-null   int64  \n",
      " 7   CT                      2500 non-null   int64  \n",
      " 8   FL                      2500 non-null   int64  \n",
      " 9   GA                      2500 non-null   int64  \n",
      " 10  ID                      2500 non-null   int64  \n",
      " 11  IL                      2500 non-null   int64  \n",
      " 12  IN                      2500 non-null   int64  \n",
      " 13  IA                      2500 non-null   int64  \n",
      " 14  KS                      2500 non-null   int64  \n",
      " 15  KY                      2500 non-null   int64  \n",
      " 16  LA                      2500 non-null   int64  \n",
      " 17  MD                      2500 non-null   int64  \n",
      " 18  MA                      2500 non-null   int64  \n",
      " 19  MI                      2500 non-null   int64  \n",
      " 20  MN                      2500 non-null   int64  \n",
      " 21  MS                      2500 non-null   int64  \n",
      " 22  MO                      2500 non-null   int64  \n",
      " 23  NE                      2500 non-null   int64  \n",
      " 24  NV                      2500 non-null   int64  \n",
      " 25  NJ                      2500 non-null   int64  \n",
      " 26  NM                      2500 non-null   int64  \n",
      " 27  NY                      2500 non-null   int64  \n",
      " 28  NC                      2500 non-null   int64  \n",
      " 29  OH                      2500 non-null   int64  \n",
      " 30  OK                      2500 non-null   int64  \n",
      " 31  OR                      2500 non-null   int64  \n",
      " 32  PA                      2500 non-null   int64  \n",
      " 33  RI                      2500 non-null   int64  \n",
      " 34  SC                      2500 non-null   int64  \n",
      " 35  TX                      2500 non-null   int64  \n",
      " 36  UT                      2500 non-null   int64  \n",
      " 37  VA                      2500 non-null   int64  \n",
      " 38  WA                      2500 non-null   int64  \n",
      " 39  WV                      2500 non-null   int64  \n",
      " 40  WI                      2500 non-null   int64  \n",
      " 41  cli                     2500 non-null   float64\n",
      " 42  ili                     2500 non-null   float64\n",
      " 43  hh_cmnty_cli            2500 non-null   float64\n",
      " 44  nohh_cmnty_cli          2500 non-null   float64\n",
      " 45  wearing_mask            2500 non-null   float64\n",
      " 46  travel_outside_state    2500 non-null   float64\n",
      " 47  work_outside_home       2500 non-null   float64\n",
      " 48  shop                    2500 non-null   float64\n",
      " 49  restaurant              2500 non-null   float64\n",
      " 50  spent_time              2500 non-null   float64\n",
      " 51  large_event             2500 non-null   float64\n",
      " 52  public_transit          2500 non-null   float64\n",
      " 53  anxious                 2500 non-null   float64\n",
      " 54  depressed               2500 non-null   float64\n",
      " 55  felt_isolated           2500 non-null   float64\n",
      " 56  worried_become_ill      2500 non-null   float64\n",
      " 57  worried_finances        2500 non-null   float64\n",
      " 58  tested_positive         2500 non-null   float64\n",
      " 59  cli.1                   2500 non-null   float64\n",
      " 60  ili.1                   2500 non-null   float64\n",
      " 61  hh_cmnty_cli.1          2500 non-null   float64\n",
      " 62  nohh_cmnty_cli.1        2500 non-null   float64\n",
      " 63  wearing_mask.1          2500 non-null   float64\n",
      " 64  travel_outside_state.1  2500 non-null   float64\n",
      " 65  work_outside_home.1     2500 non-null   float64\n",
      " 66  shop.1                  2500 non-null   float64\n",
      " 67  restaurant.1            2500 non-null   float64\n",
      " 68  spent_time.1            2500 non-null   float64\n",
      " 69  large_event.1           2500 non-null   float64\n",
      " 70  public_transit.1        2500 non-null   float64\n",
      " 71  anxious.1               2500 non-null   float64\n",
      " 72  depressed.1             2500 non-null   float64\n",
      " 73  felt_isolated.1         2500 non-null   float64\n",
      " 74  worried_become_ill.1    2500 non-null   float64\n",
      " 75  worried_finances.1      2500 non-null   float64\n",
      " 76  tested_positive.1       2500 non-null   float64\n",
      " 77  cli.2                   2500 non-null   float64\n",
      " 78  ili.2                   2500 non-null   float64\n",
      " 79  hh_cmnty_cli.2          2500 non-null   float64\n",
      " 80  nohh_cmnty_cli.2        2500 non-null   float64\n",
      " 81  wearing_mask.2          2500 non-null   float64\n",
      " 82  travel_outside_state.2  2500 non-null   float64\n",
      " 83  work_outside_home.2     2500 non-null   float64\n",
      " 84  shop.2                  2500 non-null   float64\n",
      " 85  restaurant.2            2500 non-null   float64\n",
      " 86  spent_time.2            2500 non-null   float64\n",
      " 87  large_event.2           2500 non-null   float64\n",
      " 88  public_transit.2        2500 non-null   float64\n",
      " 89  anxious.2               2500 non-null   float64\n",
      " 90  depressed.2             2500 non-null   float64\n",
      " 91  felt_isolated.2         2500 non-null   float64\n",
      " 92  worried_become_ill.2    2500 non-null   float64\n",
      " 93  worried_finances.2      2500 non-null   float64\n",
      " 94  tested_positive.2       2000 non-null   float64\n",
      "dtypes: float64(54), int64(41)\n",
      "memory usage: 1.8 MB\n"
     ]
    }
   ],
   "source": [
    "df.info()"
   ]
  },
  {
   "cell_type": "code",
   "execution_count": 6,
   "id": "40bf9f98",
   "metadata": {},
   "outputs": [],
   "source": [
    "df.drop('id', axis = 1, inplace = True)"
   ]
  },
  {
   "cell_type": "code",
   "execution_count": 7,
   "id": "61eaaa33",
   "metadata": {},
   "outputs": [
    {
     "data": {
      "text/plain": [
       "tested_positive.1     0.991274\n",
       "tested_positive       0.981751\n",
       "hh_cmnty_cli          0.892037\n",
       "hh_cmnty_cli.1        0.891218\n",
       "hh_cmnty_cli.2        0.889511\n",
       "nohh_cmnty_cli        0.881381\n",
       "nohh_cmnty_cli.1      0.880072\n",
       "nohh_cmnty_cli.2      0.877796\n",
       "cli.1                 0.849419\n",
       "cli                   0.848430\n",
       "cli.2                 0.848244\n",
       "ili                   0.838876\n",
       "ili.1                 0.838710\n",
       "ili.2                 0.836767\n",
       "worried_finances.2    0.503343\n",
       "Name: tested_positive.2, dtype: float64"
      ]
     },
     "execution_count": 7,
     "metadata": {},
     "output_type": "execute_result"
    }
   ],
   "source": [
    "df.iloc[:,40:].corr().iloc[-1].abs().drop('tested_positive.2').sort_values(ascending = False)[:15]"
   ]
  },
  {
   "cell_type": "code",
   "execution_count": 8,
   "id": "25b22746",
   "metadata": {},
   "outputs": [
    {
     "data": {
      "text/plain": [
       "hh_cmnty_cli.1          0.880158\n",
       "nohh_cmnty_cli.1        0.869571\n",
       "cli.1                   0.839502\n",
       "ili.1                   0.829182\n",
       "worried_finances.1      0.493290\n",
       "worried_become_ill.1    0.273047\n",
       "anxious.1               0.162018\n",
       "felt_isolated.1         0.102464\n",
       "depressed.1             0.035889\n",
       "work_outside_home.1     0.026764\n",
       "Name: tested_positive.1, dtype: float64"
      ]
     },
     "execution_count": 8,
     "metadata": {},
     "output_type": "execute_result"
    }
   ],
   "source": [
    "df.iloc[:,40:].iloc[:,18:36].corr().iloc[-1].drop('tested_positive.1').sort_values(ascending = False)[:10]"
   ]
  },
  {
   "cell_type": "code",
   "execution_count": 9,
   "id": "3bbe5a32",
   "metadata": {},
   "outputs": [
    {
     "data": {
      "text/plain": [
       "hh_cmnty_cli          0.881266\n",
       "nohh_cmnty_cli        0.870784\n",
       "cli                   0.841828\n",
       "ili                   0.831756\n",
       "worried_finances      0.495873\n",
       "worried_become_ill    0.278948\n",
       "anxious               0.166837\n",
       "felt_isolated         0.107500\n",
       "depressed             0.035488\n",
       "work_outside_home     0.019607\n",
       "Name: tested_positive, dtype: float64"
      ]
     },
     "execution_count": 9,
     "metadata": {},
     "output_type": "execute_result"
    }
   ],
   "source": [
    "df.iloc[:,40:].iloc[:,:18].corr().iloc[-1].drop('tested_positive').sort_values(ascending = False)[:10]"
   ]
  },
  {
   "cell_type": "code",
   "execution_count": 10,
   "id": "a94f6c9f",
   "metadata": {},
   "outputs": [],
   "source": [
    "state_noinfo = []\n",
    "state = []\n",
    "for i in iter(train.iloc[:,1:40]):\n",
    "    if train[f'{i}'].loc[train[f'{i}'] == 0].shape[0] == 2000:\n",
    "        state_noinfo.append(i)\n",
    "    else:\n",
    "        state.append(i)"
   ]
  },
  {
   "cell_type": "code",
   "execution_count": 11,
   "id": "ca570067",
   "metadata": {},
   "outputs": [],
   "source": [
    "df.drop(state_noinfo,axis = 1, inplace = True)"
   ]
  },
  {
   "cell_type": "code",
   "execution_count": 12,
   "id": "1b603cb1",
   "metadata": {},
   "outputs": [
    {
     "data": {
      "text/plain": [
       "MS    0.282766\n",
       "OK    0.229534\n",
       "OH    0.218968\n",
       "NV    0.212388\n",
       "ID    0.211284\n",
       "MO    0.205794\n",
       "NE    0.192174\n",
       "IA    0.154263\n",
       "KS    0.108814\n",
       "AL    0.087203\n",
       "NC    0.053134\n",
       "AR    0.050858\n",
       "NM    0.019281\n",
       "LA    0.009499\n",
       "IN   -0.007455\n",
       "IL   -0.024971\n",
       "GA   -0.040804\n",
       "NJ   -0.045719\n",
       "MN   -0.054292\n",
       "MI   -0.094814\n",
       "NY   -0.114213\n",
       "FL   -0.117198\n",
       "KY   -0.122338\n",
       "CO   -0.128983\n",
       "AK   -0.152517\n",
       "AZ   -0.162958\n",
       "CA   -0.214187\n",
       "MD   -0.215254\n",
       "CT   -0.234961\n",
       "MA   -0.278344\n",
       "Name: tested_positive.2, dtype: float64"
      ]
     },
     "execution_count": 12,
     "metadata": {},
     "output_type": "execute_result"
    }
   ],
   "source": [
    "pd.concat([train.iloc[:,1:31], train['tested_positive.2']], axis = 1).corr().iloc[-1].drop('tested_positive.2').sort_values(ascending = False)"
   ]
  },
  {
   "cell_type": "code",
   "execution_count": 13,
   "id": "675c4261",
   "metadata": {},
   "outputs": [],
   "source": [
    "cols = ['tested_positive.2',\n",
    "'tested_positive.1',\n",
    "'tested_positive',\n",
    "'hh_cmnty_cli',     \n",
    "'hh_cmnty_cli.1',   \n",
    "'hh_cmnty_cli.2',   \n",
    "'nohh_cmnty_cli',   \n",
    "'nohh_cmnty_cli.1', \n",
    "'nohh_cmnty_cli.2', \n",
    "'cli.1',            \n",
    "'cli',\n",
    "'ili',\n",
    "'ili.1',\n",
    "'ili.2']\n",
    "cols = sorted(cols)\n",
    "df = df[cols]"
   ]
  },
  {
   "cell_type": "code",
   "execution_count": 14,
   "id": "187d05dc",
   "metadata": {
    "scrolled": true
   },
   "outputs": [
    {
     "ename": "NameError",
     "evalue": "name 'plt' is not defined",
     "output_type": "error",
     "traceback": [
      "\u001b[1;31m---------------------------------------------------------------------------\u001b[0m",
      "\u001b[1;31mNameError\u001b[0m                                 Traceback (most recent call last)",
      "\u001b[1;32m~\\AppData\\Local\\Temp\\ipykernel_17136\\617384029.py\u001b[0m in \u001b[0;36m<module>\u001b[1;34m\u001b[0m\n\u001b[0;32m      1\u001b[0m \u001b[1;32mfor\u001b[0m \u001b[0mi\u001b[0m \u001b[1;32min\u001b[0m \u001b[0miter\u001b[0m\u001b[1;33m(\u001b[0m\u001b[0mdf\u001b[0m\u001b[1;33m)\u001b[0m\u001b[1;33m:\u001b[0m\u001b[1;33m\u001b[0m\u001b[1;33m\u001b[0m\u001b[0m\n\u001b[0;32m      2\u001b[0m     \u001b[0mdf\u001b[0m\u001b[1;33m[\u001b[0m\u001b[1;34mf'{i}'\u001b[0m\u001b[1;33m]\u001b[0m\u001b[1;33m.\u001b[0m\u001b[0mplot\u001b[0m\u001b[1;33m(\u001b[0m\u001b[1;33m)\u001b[0m\u001b[1;33m\u001b[0m\u001b[1;33m\u001b[0m\u001b[0m\n\u001b[1;32m----> 3\u001b[1;33m     \u001b[0mplt\u001b[0m\u001b[1;33m.\u001b[0m\u001b[0mtitle\u001b[0m\u001b[1;33m(\u001b[0m\u001b[0mi\u001b[0m\u001b[1;33m)\u001b[0m\u001b[1;33m\u001b[0m\u001b[1;33m\u001b[0m\u001b[0m\n\u001b[0m\u001b[0;32m      4\u001b[0m     \u001b[0mplt\u001b[0m\u001b[1;33m.\u001b[0m\u001b[0mshow\u001b[0m\u001b[1;33m(\u001b[0m\u001b[1;33m)\u001b[0m\u001b[1;33m\u001b[0m\u001b[1;33m\u001b[0m\u001b[0m\n",
      "\u001b[1;31mNameError\u001b[0m: name 'plt' is not defined"
     ]
    },
    {
     "data": {
      "image/png": "[encoded data removed]",
      "text/plain": [
       "<Figure size 640x480 with 1 Axes>"
      ]
     },
     "metadata": {},
     "output_type": "display_data"
    }
   ],
   "source": [
    "for i in iter(df):\n",
    "    df[f'{i}'].plot()\n",
    "    plt.title(i)\n",
    "    plt.show()"
   ]
  },
  {
   "cell_type": "code",
   "execution_count": 23,
   "id": "db4a2140",
   "metadata": {},
   "outputs": [
    {
     "data": {
      "text/plain": [
       "0       19.586492\n",
       "1       20.151838\n",
       "2       20.704935\n",
       "3       21.292911\n",
       "4       21.166656\n",
       "          ...    \n",
       "1995    29.736021\n",
       "1996    30.763206\n",
       "1997    31.087634\n",
       "1998    31.449037\n",
       "1999    32.985559\n",
       "Name: tested_positive, Length: 2000, dtype: float64"
      ]
     },
     "execution_count": 23,
     "metadata": {},
     "output_type": "execute_result"
    }
   ],
   "source": [
    "train.iloc[:,58]"
   ]
  }
 ],
 "metadata": {
  "kernelspec": {
   "display_name": "Python 3 (ipykernel)",
   "language": "python",
   "name": "python3"
  },
  "language_info": {
   "codemirror_mode": {
    "name": "ipython",
    "version": 3
   },
   "file_extension": ".py",
   "mimetype": "text/x-python",
   "name": "python",
   "nbconvert_exporter": "python",
   "pygments_lexer": "ipython3",
   "version": "3.9.13"
  }
 },
 "nbformat": 4,
 "nbformat_minor": 5
}
